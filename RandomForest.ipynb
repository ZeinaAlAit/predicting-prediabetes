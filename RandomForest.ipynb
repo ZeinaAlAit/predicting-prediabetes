{
 "cells": [
  {
   "cell_type": "code",
   "execution_count": 1,
   "id": "39e87be3-fb46-47c0-949a-d525d87e5170",
   "metadata": {},
   "outputs": [],
   "source": [
    "#load the necessary libraries and the dataset.\n",
    "import pandas as pd\n",
    "import numpy as np\n",
    "from sklearn.model_selection import train_test_split\n",
    "from sklearn.ensemble import RandomForestClassifier\n",
    "from sklearn.metrics import accuracy_score, confusion_matrix, classification_report\n",
    "import seaborn as sns\n",
    "import matplotlib.pyplot as plt"
   ]
  },
  {
   "cell_type": "code",
   "execution_count": 2,
   "id": "bf35b40f-7f71-448d-9adf-7741831dc4f5",
   "metadata": {},
   "outputs": [],
   "source": [
    "#define parameters for the new dataset with dependencies\n",
    "n_samples = 1000\n",
    "\n",
    "#generating random data with dependencies and additional columns\n",
    "data = {\n",
    "    'Age': np.random.randint(20, 80, n_samples),\n",
    "    'Gender': np.random.choice(['Male', 'Female'], n_samples),\n",
    "    'Healthy_Diet': np.random.choice([True, False], n_samples, p=[0.5, 0.5]),\n",
    "    'BMI': np.random.uniform(18, 40, n_samples),\n",
    "    'Glucose_Level': np.zeros(n_samples),\n",
    "    'Blood_Pressure': np.zeros(n_samples),\n",
    "    'Insulin_Level': np.zeros(n_samples),\n",
    "    'Family_History': np.random.choice([0, 1], n_samples, p=[0.8, 0.2]),\n",
    "    'Physical_Activity': np.random.randint(0, 8, n_samples)\n",
    "}\n",
    "\n",
    "df = pd.DataFrame(data)\n"
   ]
  },
  {
   "cell_type": "code",
   "execution_count": 4,
   "id": "68553e4d-d440-4c8c-8e7a-7bc39a44ba0f",
   "metadata": {},
   "outputs": [],
   "source": [
    "# Adjust glucose level, blood pressure, and insulin level based on BMI and physical activity\n",
    "for i in range(n_samples):\n",
    "    bmi = df.loc[i, 'BMI']\n",
    "    activity = df.loc[i, 'Physical_Activity']\n",
    "    \n",
    "    # Define glucose level as higher for higher BMI and lower for more physical activity\n",
    "    df.loc[i, 'Glucose_Level'] = np.clip((100 + (bmi - 25) * 3 - activity * 5), 70, 200)\n",
    "    \n",
    "    # Define blood pressure as higher for higher BMI and lower for more physical activity\n",
    "    df.loc[i, 'Blood_Pressure'] = np.clip((90 + (bmi - 25) * 2 - activity * 4), 90, 180)\n",
    "# Define insulin level inversely with physical activity and directly with BMI\n",
    "    df.loc[i, 'Insulin_Level'] = np.clip((50 + (bmi - 25) * 4 - activity * 15), 0, 300)\n",
    "\n",
    "# Define pre-diabetes based on glucose level, BMI, family history, and healthy diet\n",
    "df['Pre_diabetes'] = ((df['Glucose_Level'] > 126) | (df['BMI'] > 30) |\n",
    "                      (df['Family_History'] == 1) & (~df['Healthy_Diet'])).astype(int)\n"
   ]
  },
  {
   "cell_type": "code",
   "execution_count": 5,
   "id": "2730ddbe-b7e9-48d8-8c2f-cec3c344773f",
   "metadata": {},
   "outputs": [
    {
     "data": {
      "text/html": [
       "<div>\n",
       "<style scoped>\n",
       "    .dataframe tbody tr th:only-of-type {\n",
       "        vertical-align: middle;\n",
       "    }\n",
       "\n",
       "    .dataframe tbody tr th {\n",
       "        vertical-align: top;\n",
       "    }\n",
       "\n",
       "    .dataframe thead th {\n",
       "        text-align: right;\n",
       "    }\n",
       "</style>\n",
       "<table border=\"1\" class=\"dataframe\">\n",
       "  <thead>\n",
       "    <tr style=\"text-align: right;\">\n",
       "      <th></th>\n",
       "      <th>Age</th>\n",
       "      <th>Gender</th>\n",
       "      <th>Healthy_Diet</th>\n",
       "      <th>BMI</th>\n",
       "      <th>Glucose_Level</th>\n",
       "      <th>Blood_Pressure</th>\n",
       "      <th>Insulin_Level</th>\n",
       "      <th>Family_History</th>\n",
       "      <th>Physical_Activity</th>\n",
       "      <th>Pre_diabetes</th>\n",
       "    </tr>\n",
       "  </thead>\n",
       "  <tbody>\n",
       "    <tr>\n",
       "      <th>0</th>\n",
       "      <td>27</td>\n",
       "      <td>Male</td>\n",
       "      <td>True</td>\n",
       "      <td>24.838043</td>\n",
       "      <td>89.514130</td>\n",
       "      <td>90.000000</td>\n",
       "      <td>19.352173</td>\n",
       "      <td>0</td>\n",
       "      <td>2</td>\n",
       "      <td>0</td>\n",
       "    </tr>\n",
       "    <tr>\n",
       "      <th>1</th>\n",
       "      <td>52</td>\n",
       "      <td>Female</td>\n",
       "      <td>True</td>\n",
       "      <td>20.673538</td>\n",
       "      <td>72.020615</td>\n",
       "      <td>90.000000</td>\n",
       "      <td>0.000000</td>\n",
       "      <td>0</td>\n",
       "      <td>3</td>\n",
       "      <td>0</td>\n",
       "    </tr>\n",
       "    <tr>\n",
       "      <th>2</th>\n",
       "      <td>37</td>\n",
       "      <td>Male</td>\n",
       "      <td>True</td>\n",
       "      <td>35.520817</td>\n",
       "      <td>116.562450</td>\n",
       "      <td>99.041633</td>\n",
       "      <td>47.083266</td>\n",
       "      <td>0</td>\n",
       "      <td>3</td>\n",
       "      <td>1</td>\n",
       "    </tr>\n",
       "    <tr>\n",
       "      <th>3</th>\n",
       "      <td>28</td>\n",
       "      <td>Female</td>\n",
       "      <td>False</td>\n",
       "      <td>36.975716</td>\n",
       "      <td>100.927148</td>\n",
       "      <td>90.000000</td>\n",
       "      <td>0.000000</td>\n",
       "      <td>0</td>\n",
       "      <td>7</td>\n",
       "      <td>1</td>\n",
       "    </tr>\n",
       "    <tr>\n",
       "      <th>4</th>\n",
       "      <td>76</td>\n",
       "      <td>Female</td>\n",
       "      <td>True</td>\n",
       "      <td>33.068162</td>\n",
       "      <td>109.204486</td>\n",
       "      <td>94.136324</td>\n",
       "      <td>37.272648</td>\n",
       "      <td>1</td>\n",
       "      <td>3</td>\n",
       "      <td>1</td>\n",
       "    </tr>\n",
       "  </tbody>\n",
       "</table>\n",
       "</div>"
      ],
      "text/plain": [
       "   Age  Gender  Healthy_Diet        BMI  Glucose_Level  Blood_Pressure  \\\n",
       "0   27    Male          True  24.838043      89.514130       90.000000   \n",
       "1   52  Female          True  20.673538      72.020615       90.000000   \n",
       "2   37    Male          True  35.520817     116.562450       99.041633   \n",
       "3   28  Female         False  36.975716     100.927148       90.000000   \n",
       "4   76  Female          True  33.068162     109.204486       94.136324   \n",
       "\n",
       "   Insulin_Level  Family_History  Physical_Activity  Pre_diabetes  \n",
       "0      19.352173               0                  2             0  \n",
       "1       0.000000               0                  3             0  \n",
       "2      47.083266               0                  3             1  \n",
       "3       0.000000               0                  7             1  \n",
       "4      37.272648               1                  3             1  "
      ]
     },
     "execution_count": 5,
     "metadata": {},
     "output_type": "execute_result"
    }
   ],
   "source": [
    "df.head()\n"
   ]
  },
  {
   "cell_type": "code",
   "execution_count": 8,
   "id": "9a9ac897-25f1-4956-9023-d8e3ea97a002",
   "metadata": {},
   "outputs": [],
   "source": [
    "df.to_csv('output.csv', index=False)"
   ]
  },
  {
   "cell_type": "code",
   "execution_count": 9,
   "id": "5f67d6f7-b22f-47a2-b517-780e7b956de6",
   "metadata": {},
   "outputs": [],
   "source": [
    "# Load the data (assuming the dataframe is named df)\n",
    "df = pd.read_csv('output.csv')  "
   ]
  },
  {
   "cell_type": "code",
   "execution_count": 11,
   "id": "c2567136-f2b7-44d3-b29b-e74119b11a95",
   "metadata": {},
   "outputs": [
    {
     "data": {
      "image/png": "[encoded data removed]",
      "text/plain": [
       "<Figure size 1080x864 with 9 Axes>"
      ]
     },
     "metadata": {
      "needs_background": "light"
     },
     "output_type": "display_data"
    }
   ],
   "source": [
    "df.hist(figsize=(15, 12), bins=15,color='skyblue')\n",
    "plt.tight_layout()\n",
    "plt.show()"
   ]
  },
  {
   "cell_type": "code",
   "execution_count": 12,
   "id": "01acdd57-8fda-4567-8447-836f076eb486",
   "metadata": {},
   "outputs": [
    {
     "data": {
      "image/png": "[encoded data removed]",
      "text/plain": [
       "<Figure size 432x288 with 1 Axes>"
      ]
     },
     "metadata": {
      "needs_background": "light"
     },
     "output_type": "display_data"
    }
   ],
   "source": [
    "# Checking the balance of the target variable\n",
    "sns.countplot(x='Pre_diabetes', data=df)\n",
    "plt.title('Distribution of Pre-diabetes Cases')\n",
    "plt.show()\n"
   ]
  },
  {
   "cell_type": "code",
   "execution_count": 13,
   "id": "08c15be8-84a1-45fe-812b-09060d6d442a",
   "metadata": {},
   "outputs": [],
   "source": [
    "# Data Preprocessing Before applying Random Forest, we need to handle categorical variables and split the data into training and testing sets.\n",
    "\n",
    "# Convert categorical variables to numeric\n",
    "df['Gender'] = df['Gender'].map({'Male': 0, 'Female': 1})\n",
    "df['Healthy_Diet'] = df['Healthy_Diet'].astype(int)\n",
    "\n",
    "# Splitting the dataset into training and testing sets\n",
    "X = df.drop('Pre_diabetes', axis=1)\n",
    "y = df['Pre_diabetes']\n",
    "X_train, X_test, y_train, y_test = train_test_split(X, y, test_size=0.2, random_state=42)"
   ]
  },
  {
   "cell_type": "code",
   "execution_count": 34,
   "id": "cd2f33fc-8c50-4612-93c4-f62f5bb61247",
   "metadata": {},
   "outputs": [],
   "source": [
    "# Model Building: Random Forest We will use the Random Forest classifier to predict pre-diabetes.\n",
    "# Initialize and train the Random Forest model\n",
    "rf = RandomForestClassifier(n_estimators=10, random_state=42)\n",
    "rf.fit(X_train, y_train)\n",
    "\n",
    "# Predict on the test set\n",
    "y_pred = rf.predict(X_test)"
   ]
  },
  {
   "cell_type": "code",
   "execution_count": 35,
   "id": "ac3cb372-1c3c-400d-b4bb-a0ad7688380e",
   "metadata": {},
   "outputs": [
    {
     "name": "stdout",
     "output_type": "stream",
     "text": [
      "Accuracy: 0.99\n"
     ]
    }
   ],
   "source": [
    "# Model Evaluation Let's evaluate the model using accuracy and other metrics.\n",
    "\n",
    "# Calculate and print the accuracy\n",
    "accuracy = accuracy_score(y_test, y_pred)\n",
    "print(f'Accuracy: {accuracy:.2f}')"
   ]
  },
  {
   "cell_type": "code",
   "execution_count": 37,
   "id": "ba3b6a55-178e-4e96-9158-25facc0f7917",
   "metadata": {},
   "outputs": [
    {
     "data": {
      "image/png": "[encoded data removed]",
      "text/plain": [
       "<Figure size 432x288 with 2 Axes>"
      ]
     },
     "metadata": {
      "needs_background": "light"
     },
     "output_type": "display_data"
    }
   ],
   "source": [
    "# Confusion matrix\n",
    "conf_matrix = confusion_matrix(y_test, y_pred)\n",
    "sns.heatmap(conf_matrix, annot=True, fmt='d', cmap='Blues')\n",
    "plt.title('Confusion Matrix')\n",
    "plt.show()"
   ]
  },
  {
   "cell_type": "code",
   "execution_count": 38,
   "id": "f2dad84b-b62b-460a-b1f6-3bbadfe86b10",
   "metadata": {},
   "outputs": [
    {
     "name": "stdout",
     "output_type": "stream",
     "text": [
      "              precision    recall  f1-score   support\n",
      "\n",
      "           0       1.00      0.98      0.99       105\n",
      "           1       0.98      1.00      0.99        95\n",
      "\n",
      "    accuracy                           0.99       200\n",
      "   macro avg       0.99      0.99      0.99       200\n",
      "weighted avg       0.99      0.99      0.99       200\n",
      "\n"
     ]
    }
   ],
   "source": [
    "# Classification report\n",
    "print(classification_report(y_test, y_pred))"
   ]
  },
  {
   "cell_type": "code",
   "execution_count": 21,
   "id": "65668c7e-6211-4d82-a46b-ecb1b84a990e",
   "metadata": {},
   "outputs": [
    {
     "data": {
      "image/png": "[encoded data removed]",
      "text/plain": [
       "<Figure size 432x288 with 1 Axes>"
      ]
     },
     "metadata": {
      "needs_background": "light"
     },
     "output_type": "display_data"
    }
   ],
   "source": [
    "# Feature Importance Understanding which features are most important in predicting pre-diabetes.\n",
    "# Plotting feature importances\n",
    "feature_importances = pd.Series(rf.feature_importances_, index=X.columns)\n",
    "feature_importances.nlargest(10).plot(kind='barh',  color='skyblue')\n",
    "plt.title('Feature Importances')\n",
    "plt.show()"
   ]
  },
  {
   "cell_type": "code",
   "execution_count": null,
   "id": "f13a2f00-9b7f-41d1-bedd-1a463f9629f1",
   "metadata": {},
   "outputs": [],
   "source": []
  },
  {
   "cell_type": "code",
   "execution_count": null,
   "id": "00ae7cef-ef94-47ab-a061-16ea7a277cdb",
   "metadata": {},
   "outputs": [],
   "source": []
  }
 ],
 "metadata": {
  "kernelspec": {
   "display_name": "Python 3 (ipykernel)",
   "language": "python",
   "name": "python3"
  },
  "language_info": {
   "codemirror_mode": {
    "name": "ipython",
    "version": 3
   },
   "file_extension": ".py",
   "mimetype": "text/x-python",
   "name": "python",
   "nbconvert_exporter": "python",
   "pygments_lexer": "ipython3",
   "version": "3.9.12"
  }
 },
 "nbformat": 4,
 "nbformat_minor": 5
}
